{
 "cells": [
  {
   "cell_type": "markdown",
   "id": "1626d271",
   "metadata": {},
   "source": [
    "<div style=\"text-align: left; background-color: black; color: white; padding: 10px;\">\n",
    "    <h1 style=\"font-size: 48px;\">rAIn</h1>\n",
    "    <p style=\"font-size: 16px; color: grey;\">Australia Festivals Inc.</p>\n",
    "</div>\n"
   ]
  },
  {
   "cell_type": "markdown",
   "id": "bc88ba1d",
   "metadata": {},
   "source": [
    "<div style=\"background-color: #f0f0f0; border: 2px solid black; padding: 20px;\">\n",
    "    <strong style=\"text-decoration: underline;\">ABOUT</strong>\n",
    "    <p>rAIn is an all-in-one rainfall prediction application for locations across Australia. Data is pulled from 10 years' worth of environmental variables from 49 different weather stations. This data is loaded and processed for machine learning and the model is evaluated. <br><br>\n",
    "    <strong style=\"text-decoration: underline;\">HOW TO USE rAIN</strong>\n",
    "    <p>Navigate to the User Interface section towards the bottom of this page to choose a location and receive a prediction as to whether or not it will rain the next day with above 75% accuracy.</p>\n",
    "</div>\n"
   ]
  },
  {
   "cell_type": "markdown",
   "id": "038ecdcb",
   "metadata": {},
   "source": [
    "<div id=\"loading-data\" style=\"text-align: center; background-color: black; color: white; padding: 10px;\">\n",
    "    <h2>LOADING LIBRARIES & DATA</h2>\n",
    "</div>\n"
   ]
  },
  {
   "cell_type": "code",
   "execution_count": null,
   "id": "579ad0ac",
   "metadata": {},
   "outputs": [],
   "source": [
    "import pandas as pd\n",
    "import matplotlib.pyplot as plt\n",
    "import seaborn as sns\n",
    "import numpy as np\n",
    "import ipywidgets as widgets\n",
    "from ipywidgets import Button, VBox, Image\n",
    "from IPython.display import display\n",
    "import requests\n",
    "import warnings\n",
    "\n",
    "from sklearn.model_selection import train_test_split\n",
    "from sklearn.metrics import accuracy_score, confusion_matrix, classification_report\n",
    "from sklearn.linear_model import LogisticRegression\n"
   ]
  },
  {
   "cell_type": "code",
   "execution_count": null,
   "id": "f6edb10e",
   "metadata": {
    "scrolled": false
   },
   "outputs": [],
   "source": [
    "# suppress future warnings\n",
    "warnings.simplefilter(action='ignore', category=FutureWarning)\n",
    "\n",
    "# import and read the data set from GitHub \n",
    "# weatherAUS sourced from Kaggle\n",
    "url = 'https://raw.githubusercontent.com/JDollWGU/rAInCapstone/main/weatherAUS.csv'\n",
    "\n",
    "# read the data and store in a dataframe\n",
    "df = pd.read_csv(url)\n",
    "print(df.head())"
   ]
  },
  {
   "cell_type": "markdown",
   "id": "4e282c4c",
   "metadata": {},
   "source": [
    "<div style=\"background-color: #f0f0f0; border: 2px solid black; padding: 10px;\">\n",
    "    <strong>ABOVE:</strong> Raw data is displayed.\n",
    "</div>\n"
   ]
  },
  {
   "cell_type": "code",
   "execution_count": null,
   "id": "79e24e7e",
   "metadata": {
    "scrolled": true
   },
   "outputs": [],
   "source": [
    "df.info()"
   ]
  },
  {
   "cell_type": "markdown",
   "id": "b9ba2e84",
   "metadata": {},
   "source": [
    "<div style=\"background-color: #f0f0f0; border: 2px solid black; padding: 10px;\">\n",
    "    <strong>ABOVE:</strong> The range of indices and the number of rows in the data set, data types and non-null counts, and memory usage are listed. It's important to note that data is missing from the columns.\n",
    "</div>\n"
   ]
  },
  {
   "cell_type": "markdown",
   "id": "ac9d9549",
   "metadata": {},
   "source": [
    "<div id=\"data-processing\" style=\"text-align: center; background-color: black; color: white; padding: 10px;\">\n",
    "    <h2>DATA PROCESSING</h2>\n",
    "</div>"
   ]
  },
  {
   "cell_type": "code",
   "execution_count": null,
   "id": "4cb3843d",
   "metadata": {
    "scrolled": true
   },
   "outputs": [],
   "source": [
    "# begin to understand data relationships\n",
    "# only include columns with numbers\n",
    "numeric_df = df.select_dtypes(include='number')\n",
    "\n",
    "# calculate the correlation matrix\n",
    "corr_matrix = numeric_df.corr()\n",
    "\n",
    "# create a heatmap \n",
    "plt.figure(figsize=(18, 18))\n",
    "sns.heatmap(corr_matrix, annot=True, cmap='Blues', fmt=\".2f\", square=True)\n",
    "plt.title('Correlation Matrix of Numeric Environmental Variables')\n",
    "plt.show()"
   ]
  },
  {
   "cell_type": "markdown",
   "id": "73e82ab4",
   "metadata": {},
   "source": [
    "<div style=\"background-color: #f0f0f0; border: 2px solid black; padding: 10px;\">\n",
    "    <strong>ABOVE:</strong> A heatmap of the correlation matrix demonstrates how variables interact with each other and the strength of their relationships. A darker blue with a value closer to 1 indicates a stronger relationship while a lighter blue closer to -1 indicates a weaker relationship.\n",
    "    <br><br>Columns with data types other than numbers have not been included, such as Date, Location, WindGustDir, WindDir9am, WindDir3pm, RainToday, and RainTomorrow.\n",
    "</div>\n"
   ]
  },
  {
   "cell_type": "code",
   "execution_count": null,
   "id": "279274df",
   "metadata": {
    "scrolled": false
   },
   "outputs": [],
   "source": [
    "# define an empty dictionary to store location data\n",
    "location_tables = {}\n",
    "\n",
    "# iterate over unique location names\n",
    "for location_name in df['Location'].unique():\n",
    "    # find data for the current location\n",
    "    location_data = df[df['Location'] == location_name]\n",
    "\n",
    "    # store in dictionary with location name as the key\n",
    "    location_tables[location_name] = location_data\n",
    "\n",
    "# assign unique values to each location alphabetically\n",
    "location_name_mapping = {\n",
    "    'Albury': 1, 'BadgerysCreek': 2, 'Cobar': 3, 'CoffsHarbour': 4, 'Moree': 5,\n",
    "    'Newcastle': 6, 'NorahHead': 7, 'NorfolkIsland': 8, 'Penrith': 9, 'Richmond': 10,\n",
    "    'Sydney': 11, 'SydneyAirport': 12, 'WaggaWagga': 13, 'Williamtown': 14, 'Wollongong': 15, 'Canberra': 16,\n",
    "    'Tuggeranong': 17, 'MountGinini': 18, 'Ballarat': 19, 'Bendigo': 20, 'Sale': 21,\n",
    "    'MelbourneAirport': 22, 'Melbourne': 23, 'Mildura': 24, 'Nhil': 25, 'Portland': 26,\n",
    "    'Watsonia': 27, 'Dartmoor': 28, 'Brisbane': 29, 'Cairns': 30, 'GoldCoast': 31,\n",
    "    'Townsville': 32, 'Adelaide': 33, 'MountGambier': 34, 'Nuriootpa': 35, 'Woomera': 36,\n",
    "    'Albany': 37, 'Witchcliffe': 38, 'PearceRAAF': 39, 'PerthAirport': 40, 'Perth': 41,\n",
    "    'SalmonGums': 42, 'Walpole': 43, 'Hobart': 44, 'Launceston': 45, 'AliceSprings': 46, 'Darwin': 47,\n",
    "    'Katherine': 48, 'Uluru': 49\n",
    "}\n",
    "\n",
    "# convert date column to datetime\n",
    "df['Date'] = pd.to_datetime(df['Date'], errors='coerce')\n",
    "\n",
    "# split date to year/month/day\n",
    "df['Year'] = df['Date'].dt.year\n",
    "df['Month'] = df['Date'].dt.month\n",
    "df['Day'] = df['Date'].dt.day\n",
    "\n",
    "# delete original date column\n",
    "df.drop(columns=['Date'], inplace=True)\n",
    "\n",
    "# assign values to wind directions according to their degree value\n",
    "wind_direction_mapping = {\n",
    "    'N': 0, 'NNE': 22.5, 'NE': 45, 'ENE': 67.5, 'E': 90, 'ESE': 112.5,\n",
    "    'SE': 135, 'SSE': 157.5, 'S': 180, 'SSW': 202.5, 'SW': 225,\n",
    "    'WSW': 247.5, 'W': 270, 'WNW': 292.5, 'NW': 315, 'NNW': 337.5\n",
    "}\n",
    "\n",
    "# map wind values\n",
    "df['WindGustDir'] = df['WindGustDir'].map(wind_direction_mapping)\n",
    "df['WindDir9am'] = df['WindDir9am'].map(wind_direction_mapping)\n",
    "df['WindDir3pm'] = df['WindDir3pm'].map(wind_direction_mapping)\n",
    "\n",
    "# convert RainToday/RainTomorrow columns to boolean\n",
    "df['RainToday'] = df['RainToday'].map({'Yes': 1, 'No': 0})\n",
    "df['RainTomorrow'] = df['RainTomorrow'].map({'Yes': 1, 'No': 0})\n",
    "\n",
    "# map the numerical codes in the dataframe to location names\n",
    "df['Location'] = df['Location'].map(location_name_mapping)\n",
    "\n",
    "# make date be first in columns\n",
    "columns = ['Year', 'Month', 'Day'] + [col for col in df.columns if col not in ['Year', 'Month', 'Day']]\n",
    "df = df[columns]\n",
    "\n",
    "print(df.head())"
   ]
  },
  {
   "cell_type": "markdown",
   "id": "00e783a5",
   "metadata": {},
   "source": [
    "<div style=\"background-color: #f0f0f0; border: 2px solid black; padding: 10px;\">\n",
    "    <strong>ABOVE:</strong> The objects within the raw data (Date, Location, WindGustDir, WindDir9am, WindDir3pm, RainToday, and RainTomorrow) are transformed to numeric data types for better processing.\n",
    "</div>\n"
   ]
  },
  {
   "cell_type": "code",
   "execution_count": null,
   "id": "46406301",
   "metadata": {
    "scrolled": true
   },
   "outputs": [],
   "source": [
    "# create a table for each location and its given variables\n",
    "modified_location_tables = {}\n",
    "\n",
    "# group by location\n",
    "grouped = df.groupby('Location')\n",
    "\n",
    "# handle missing data\n",
    "for location, group in grouped:\n",
    "    # drop columns with more than 95% missing values for the current location\n",
    "    missing_percentage = group.isnull().mean()\n",
    "    columns_to_drop = missing_percentage[missing_percentage > 0.95].index\n",
    "    location_data = group.drop(columns=columns_to_drop)\n",
    "    \n",
    "    # delete duplicates before the median is taken as this can cause erroneous duplicates\n",
    "    df.drop_duplicates(inplace=True)\n",
    "\n",
    "    # replace missing values with the median of that column at that location\n",
    "    # exclude Year, Month, Day, RainToday, and RainTomorrow as the averages shouldn't be taken\n",
    "    numerical_columns = location_data.select_dtypes(include='number').columns\n",
    "    for column in numerical_columns:\n",
    "        if column not in ['Year', 'Month', 'Day', 'RainToday', 'RainTomorrow']:\n",
    "            median_value = location_data[column].median()\n",
    "            location_data[column].fillna(median_value, inplace=True)\n",
    "\n",
    "    # delete any remaining rows with missing data\n",
    "    location_data.dropna(inplace=True)\n",
    "\n",
    "    # store new table in the dictionary with location as the key\n",
    "    modified_location_tables[location] = location_data\n",
    "\n",
    "# calculate total null values\n",
    "total_null_values = sum(data.isnull().sum().sum() for data in modified_location_tables.values())\n",
    "print(\"Total null values:\", total_null_values)\n",
    "\n",
    "# get the location name\n",
    "def get_location_name(location_key):\n",
    "    return list(location_name_mapping.keys())[list(location_name_mapping.values()).index(location_key)]\n",
    "\n",
    "# print each location in modified_location_tables\n",
    "for location, data in modified_location_tables.items():\n",
    "    # use get_location_name\n",
    "    location_name = get_location_name(location)\n",
    "    print(f\"Location: {location_name}\")\n",
    "    print(data.head())\n",
    "    print(\"-\" * 50)"
   ]
  },
  {
   "cell_type": "markdown",
   "id": "7ec03483",
   "metadata": {},
   "source": [
    "<div style=\"background-color: #f0f0f0; border: 2px solid black; padding: 10px;\">\n",
    "    <strong>ABOVE:</strong> Each modified location table displays the remaining valid rows and columns, along with transformed data points. Confirmation that no null values remain in the modified data set is apparent (at top).\n",
    "</div>\n"
   ]
  },
  {
   "cell_type": "code",
   "execution_count": null,
   "id": "a13ce96b",
   "metadata": {
    "scrolled": false
   },
   "outputs": [],
   "source": [
    "# initialize an empty list to store the rainfall average for each location\n",
    "average_rainfall_per_location = []\n",
    "\n",
    "# iterate through each modified table\n",
    "for location, modified_table in modified_location_tables.items():\n",
    "    # group data by year and calculate average rainfall\n",
    "    average_rainfall_by_year = modified_table.groupby('Year')['Rainfall'].mean().reset_index()\n",
    "    \n",
    "    # get the corresponding location name\n",
    "    location_name = list(location_name_mapping.keys())[list(location_name_mapping.values()).index(location)]\n",
    "    \n",
    "    # add location information to dataframe\n",
    "    average_rainfall_by_year['Location'] = location_name\n",
    "    \n",
    "    # add the average to each location table\n",
    "    average_rainfall_per_location.append(average_rainfall_by_year)\n",
    "\n",
    "# form a single dataframe\n",
    "average_rainfall_per_location = pd.concat(average_rainfall_per_location)\n",
    "\n",
    "# change the data to have years as columns\n",
    "average_rainfall_per_location_pivot = average_rainfall_per_location.pivot(index='Year', columns='Location', values='Rainfall')\n",
    "\n",
    "# calculate average rainfall across all locations for each year\n",
    "overall_average_rainfall = average_rainfall_per_location.groupby('Year')['Rainfall'].mean().reset_index()\n",
    "\n",
    "# plot the line plot\n",
    "plt.figure(figsize=(16, 10))\n",
    "colors = sns.color_palette('Blues', n_colors=len(average_rainfall_per_location_pivot.columns))\n",
    "for i, location in enumerate(average_rainfall_per_location_pivot.columns):\n",
    "    sns.lineplot(data=average_rainfall_per_location_pivot[location], label=location, color=colors[i])\n",
    "sns.lineplot(data=overall_average_rainfall, x='Year', y='Rainfall', color='red', label='Overall Average', linewidth=3) \n",
    "plt.title('Average Rainfall per Location per Year')\n",
    "plt.xlabel('Year')\n",
    "plt.ylabel('Average Rainfall (mm)')\n",
    "plt.legend(title='Location', loc='upper left', bbox_to_anchor=(1, 1))\n",
    "plt.tight_layout()\n",
    "plt.show()\n"
   ]
  },
  {
   "cell_type": "markdown",
   "id": "07c075eb",
   "metadata": {},
   "source": [
    "<div style=\"background-color: #f0f0f0; border: 2px solid black; padding: 10px;\">\n",
    "    <strong>ABOVE:</strong> A line plot showing the average rainfall amounts (in mm) per location per year. A red trendline is applied to demonstrate the average rainfall across all locations for each year.\n",
    "</div>\n"
   ]
  },
  {
   "cell_type": "markdown",
   "id": "ef631fd1",
   "metadata": {},
   "source": [
    "<div id=\"modeling\" style=\"text-align: center; background-color: black; color: white; padding: 10px;\">\n",
    "    <h2>MODELING & EVALUATION</h2>\n",
    "</div>"
   ]
  },
  {
   "cell_type": "code",
   "execution_count": null,
   "id": "6099b66d",
   "metadata": {
    "scrolled": true
   },
   "outputs": [],
   "source": [
    "# initiate modeling\n",
    "print(\"Data Processing...\")\n",
    "\n",
    "# initialize an empty dictionary to store models for each location\n",
    "logistic_models = {}\n",
    "\n",
    "# initialize an empty list to store accuracy\n",
    "accuracy_data = []\n",
    "\n",
    "# iterate through modified tables for each location\n",
    "for location, modified_table in modified_location_tables.items():\n",
    "    # STEP 1 - split the data\n",
    "    # exclude raintomorrow as it's the variable in question\n",
    "    X = modified_table.drop(columns=['RainTomorrow'])\n",
    "    y = modified_table['RainTomorrow']\n",
    "    X_train, X_test, y_train, y_test = train_test_split(X, y, test_size=0.2, random_state=42)\n",
    "\n",
    "    # STEP 2 - train the model\n",
    "    model = LogisticRegression(penalty='l2', solver='saga', max_iter=8500)\n",
    "    model.fit(X_train, y_train)\n",
    "\n",
    "    # STEP 3 - evaluate\n",
    "    y_pred = model.predict(X_test)\n",
    "    accuracy = accuracy_score(y_test, y_pred) * 100\n",
    "    accuracy_formatted = f\"{accuracy:.2f}%\"\n",
    "    \n",
    "    # get location name\n",
    "    location_name = list(location_name_mapping.keys())[list(location_name_mapping.values()).index(location)]\n",
    "    \n",
    "    # store model and accuracy with location\n",
    "    logistic_models[location] = (model, accuracy)\n",
    "    \n",
    "    # add accuracy to the accuracy data list\n",
    "    accuracy_data.append({'Location': location_name, 'Accuracy': accuracy})\n",
    "    \n",
    "\n",
    "# finish loop\n",
    "print(\"Data Processing Complete!\")\n",
    "\n",
    "# create dataframe from the accuracy data list\n",
    "accuracy_df = pd.DataFrame(accuracy_data)\n",
    "\n",
    "# sort by descending order\n",
    "accuracy_df = accuracy_df.sort_values(by='Accuracy', ascending=False)\n",
    "\n",
    "# calculate average accuracy\n",
    "average_accuracy = np.mean(accuracy_df['Accuracy'])\n",
    "print(f\"Average Accuracy: {average_accuracy:.2f}%\")\n",
    "\n",
    "# plot the accuracy scores\n",
    "plt.figure(figsize=(20, 12))\n",
    "sns.barplot(x='Accuracy', y='Location', data=accuracy_df, palette='Blues')\n",
    "plt.xlabel('Accuracy (%)')\n",
    "plt.ylabel('Location')\n",
    "plt.title('Model Accuracies by Location')\n",
    "plt.xlim(0, 100)  # Set the limit of the x-axis to 0-100\n",
    "plt.grid(axis='x')\n",
    "\n",
    "# add labels to each bar\n",
    "for index, value in enumerate(accuracy_df['Accuracy']):\n",
    "    plt.text(value + 1, index, f\"{value:.2f}%\", color='black', va='center')\n",
    "\n",
    "# add average accuracy line\n",
    "plt.axvline(average_accuracy, color='red', linestyle='--', linewidth=2)\n",
    "plt.text(average_accuracy + 1, len(accuracy_df) - 1, f'Average Accuracy: {average_accuracy:.2f}%', color='red', va='center')\n",
    "\n",
    "plt.show()\n"
   ]
  },
  {
   "cell_type": "markdown",
   "id": "1f2b0517",
   "metadata": {},
   "source": [
    "<div style=\"background-color: #f0f0f0; border: 2px solid black; padding: 10px;\">\n",
    "    <strong>ABOVE:</strong> Data may take several minutes to load. The bar plot shows the accuracy of the logistic regression model for each location. An average accuracy line is included, representing the calculated average accuracy across all locations.\n",
    "           \n",
    "</div>\n"
   ]
  },
  {
   "cell_type": "code",
   "execution_count": null,
   "id": "0f08f46d",
   "metadata": {
    "scrolled": true
   },
   "outputs": [],
   "source": [
    "# iterate through each location\n",
    "for location, model_accuracy_tuple in logistic_models.items():\n",
    "    # get location name\n",
    "    location_name = list(location_name_mapping.keys())[list(location_name_mapping.values()).index(location)]\n",
    "    \n",
    "    # split the data for each specific location\n",
    "    modified_table = modified_location_tables[location]\n",
    "    X = modified_table.drop(columns=['RainTomorrow']) \n",
    "    y = modified_table['RainTomorrow']\n",
    "    X_train, X_test, y_train, y_test = train_test_split(X, y, test_size=0.2, random_state=42)\n",
    "    \n",
    "    # get the model from the tuple\n",
    "    model = model_accuracy_tuple[0]\n",
    "    \n",
    "    # predicting the test set results\n",
    "    y_pred = model.predict(X_test)\n",
    "    y_pred = (y_pred > 0.5)\n",
    "    \n",
    "    # print reports\n",
    "    print(f\"Classification Report for {location_name}:\")\n",
    "    print(classification_report(y_test, y_pred))\n"
   ]
  },
  {
   "cell_type": "markdown",
   "id": "a05f4eeb",
   "metadata": {},
   "source": [
    "<div style=\"background-color: #f0f0f0; border: 2px solid black; padding: 10px;\">\n",
    "    <strong>ABOVE:</strong> Classification reports for each location.\n",
    "    <ul>\n",
    "        <li><strong>Precision:</strong> Ratio of correctly predicted rain occurences to the total predicted rain occurences.</li>\n",
    "        <li><strong>Recall:</strong> Ratio of correctly predicted rain occurences to all actual rain occurences.</li>\n",
    "        <li><strong>F1-score:</strong> The mean of precision and recall.</li>\n",
    "        <li><strong>Accuracy:</strong> The overall accuracy of the model's predictions.</li>\n",
    "        <li><strong>Support:</strong> The number of instances where it didn't rain and the number of instances where it did.</li>\n",
    "    </ul>\n",
    "</div>"
   ]
  },
  {
   "cell_type": "code",
   "execution_count": null,
   "id": "ee3b9697",
   "metadata": {
    "scrolled": true
   },
   "outputs": [],
   "source": [
    "# get the location names\n",
    "def get_location_name(location_key):\n",
    "    return list(location_name_mapping.keys())[list(location_name_mapping.values()).index(location_key)]\n",
    "\n",
    "# iterate through each location\n",
    "for location_key, (model, _) in logistic_models.items():\n",
    "    # get the modified tables\n",
    "    modified_table = modified_location_tables[location_key]\n",
    "    \n",
    "    # determine features and target\n",
    "    X_test = modified_table.drop(columns=['RainTomorrow'])\n",
    "    y_test = modified_table['RainTomorrow']\n",
    "    \n",
    "    # pedict using the model\n",
    "    y_pred = model.predict(X_test)\n",
    "    y_pred = (y_pred > 0.5)\n",
    "    \n",
    "    # calculate the confusion matrices\n",
    "    cf_matrix = confusion_matrix(y_test, y_pred)\n",
    "    \n",
    "    # plot matrices\n",
    "    plt.figure(figsize=(12, 8))\n",
    "    sns.heatmap(cf_matrix / np.sum(cf_matrix), annot=True, cmap='Blues', annot_kws={'size': 15})\n",
    "    location_name = get_location_name(location_key)\n",
    "    plt.title(f'Confusion Matrix for {location_name}')\n",
    "    plt.xlabel('Predicted Label')\n",
    "    plt.ylabel('True Label')\n",
    "    plt.show()\n"
   ]
  },
  {
   "cell_type": "markdown",
   "id": "1bd67209",
   "metadata": {},
   "source": [
    "<div style=\"background-color: #f0f0f0; border: 2px solid black; padding: 10px;\">\n",
    "    <strong>ABOVE:</strong> Confusion matrices for each location.\n",
    "    <ul>\n",
    "        <li><strong>True Positives (TP):</strong> Top Left. The model correctly predicted rain when it actually rained.</li>\n",
    "        <li><strong>False Positives (FP):</strong> Top Right. The model incorrectly predicted rain when it didn't rain.</li>\n",
    "        <li><strong>False Negatives (FN):</strong> Bottom Left. The model incorrectly predicted no rain when it actually rained.</li>\n",
    "        <li><strong>True Negatives (TN):</strong> Bottom Right. The model correctly predicted no rain when it didn't rain.</li>\n",
    "    </ul>\n",
    "</div>\n"
   ]
  },
  {
   "cell_type": "markdown",
   "id": "e827b2e0",
   "metadata": {},
   "source": [
    "<div id=\"user\" style=\"text-align: center; background-color: black; color: white; padding: 10px;\">\n",
    "    <h2>USER INTERFACE</h2>\n",
    "</div>"
   ]
  },
  {
   "cell_type": "code",
   "execution_count": null,
   "id": "f4a3f212",
   "metadata": {
    "scrolled": false
   },
   "outputs": [],
   "source": [
    "# get location names\n",
    "def get_location_name(location_key):\n",
    "    return list(location_name_mapping.keys())[list(location_name_mapping.values()).index(location_key)]\n",
    "\n",
    "# make the dropdown with location names\n",
    "location_dropdown = widgets.Dropdown(\n",
    "    options=[(get_location_name(location), location) for location in modified_location_tables.keys()],\n",
    "    description='Location:'\n",
    ")\n",
    "\n",
    "# predict button\n",
    "predict_button = Button(description='Predict', button_style='info')\n",
    "\n",
    "output_label = widgets.HTML(value='', layout={'margin': '20px 0'})\n",
    "\n",
    "# apply predict weather function\n",
    "def predict_weather(b):\n",
    "    location = location_dropdown.value\n",
    "    model, accuracy = logistic_models[location]\n",
    "    latest_data = modified_location_tables[location].iloc[-1].drop('RainTomorrow').to_frame().T\n",
    "    prediction = model.predict(latest_data)[0]\n",
    "    rain_prediction = \"Yes\" if prediction == 1 else \"No\"\n",
    "    \n",
    "    output_label.value = f'<div style=\"font-size: 16px;\"><b>Will it rain tomorrow?</b> {rain_prediction}<br><b>Model Accuracy:</b> {accuracy:.2f}%</div>'\n",
    "    \n",
    "    # if yes, rain photo\n",
    "    if rain_prediction == \"Yes\":\n",
    "        image_url = \"https://static.vecteezy.com/system/resources/thumbnails/023/155/507/small/drop-of-water-on-a-white-background-rain-drop-3d-illustration-vector.jpg\"  # URL of the rain image\n",
    "    # if no, sun photo\n",
    "    else:\n",
    "        image_url = \"https://t4.ftcdn.net/jpg/02/81/12/37/360_F_281123779_WSopbvuFrjfZs9EBX1jLcaEl3m1OnP29.jpg\"  # URL of a default image\n",
    "        \n",
    "    # get the image\n",
    "    image_content = requests.get(image_url).content\n",
    "\n",
    "    # update widget\n",
    "    image_widget.value = image_content\n",
    "\n",
    "# attach function to button\n",
    "predict_button.on_click(predict_weather)\n",
    "\n",
    "# default image\n",
    "default_image_url = \"https://img.freepik.com/free-vector/doodle-australia-map_1034-834.jpg?size=338&ext=jpg&ga=GA1.1.2082370165.1716940800&semt=ais_user\"\n",
    "default_image_content = requests.get(default_image_url).content\n",
    "image_widget = Image(value=default_image_content, width=\"200px\", height=\"200px\")\n",
    "\n",
    "# output widget\n",
    "display(VBox([image_widget, location_dropdown, predict_button, output_label]))\n"
   ]
  },
  {
   "cell_type": "markdown",
   "id": "dfbecb59",
   "metadata": {},
   "source": [
    "<div style=\"background-color: #f0f0f0; border: 2px solid black; padding: 10px;\">\n",
    "    <strong>ABOVE:</strong> To use rAIn, select a location from the dropdown  menu. Click 'Predict'. A yes or no answer will appear depending on if it will rain or not the next day with a respective model accuracy. \n",
    "</div>\n"
   ]
  },
  {
   "cell_type": "markdown",
   "id": "cb85f955",
   "metadata": {},
   "source": [
    "<div id=\"citations\" style=\"text-align: center; background-color: black; color: white; padding: 10px;\">\n",
    "    <h2>CITATIONS</h2>\n",
    "</div>"
   ]
  },
  {
   "cell_type": "markdown",
   "id": "06901c1c",
   "metadata": {},
   "source": [
    "<pre>\n",
    "    Australia map. (n.d.). Freepik. Retrieved June 2, 2024, from <a href=\"https://img.freepik.com/free-vector/doodle-australia-map_1034-834.jpg?size=338&ext=jpg&ga=GA1.1.2082370165.1716940800&semt=ais_user\">https://img.freepik.com/free-vector/doodle-australia-map_1034-834.jpg?size=338&ext=jpg&ga=GA1.1.2082370165.1716940800&semt=ais_user</a><br>\n",
    "    Rain drop. (n.d.). Vecteezy. Retrieved June 2, 2024, from <a href=\"https://static.vecteezy.com/system/resources/thumbnails/023/155/507/small/drop-of-water-on-a-white-background-rain-drop-3d-illustration-vector.jpg\">https://static.vecteezy.com/system/resources/thumbnails/023/155/507/small/drop-of-water-on-a-white-background-rain-drop-3d-illustration-vector.jpg</a><br>\n",
    "    Sun. (n.d.). t4. Retrieved June 2, 2024, from <a href=\"https://t4.ftcdn.net/jpg/02/81/12/37/360_F_281123779_WSopbvuFrjfZs9EBX1jLcaEl3m1OnP29.jpg\">https://t4.ftcdn.net/jpg/02/81/12/37/360_F_281123779_WSopbvuFrjfZs9EBX1jLcaEl3m1OnP29.jpg</a><br>\n",
    "    Young, J., & Adamyoung. (n.d.). <em>Rain in Australia: Predict next-day rain in Australia</em> [Data set]. Kaggle. Retrieved June 2, 2024, from <a href=\"https://www.kaggle.com/jsphyg/weather-dataset-rattle-package\">https://www.kaggle.com/jsphyg/weather-dataset-rattle-package</a><br>\n",
    "</pre>"
   ]
  }
 ],
 "metadata": {
  "kernelspec": {
   "display_name": "Python 3 (ipykernel)",
   "language": "python",
   "name": "python3"
  },
  "language_info": {
   "codemirror_mode": {
    "name": "ipython",
    "version": 3
   },
   "file_extension": ".py",
   "mimetype": "text/x-python",
   "name": "python",
   "nbconvert_exporter": "python",
   "pygments_lexer": "ipython3",
   "version": "3.11.7"
  }
 },
 "nbformat": 4,
 "nbformat_minor": 5
}
